{
 "cells": [
  {
   "cell_type": "code",
   "execution_count": 1,
   "metadata": {},
   "outputs": [],
   "source": [
    "#hide\n",
    "#!pip install -Uqq fastbook\n",
    "import fastbook\n",
    "fastbook.setup_book()"
   ]
  },
  {
   "cell_type": "code",
   "execution_count": 2,
   "metadata": {},
   "outputs": [],
   "source": [
    "#hide\n",
    "from fastbook import *"
   ]
  },
  {
   "cell_type": "raw",
   "metadata": {},
   "source": [
    "[[chapter_pet_breeds]]d"
   ]
  },
  {
   "cell_type": "code",
   "execution_count": 3,
   "metadata": {
    "scrolled": true
   },
   "outputs": [
    {
     "data": {
      "text/plain": [
       "['Sun Sep 27 17:12:43 2020       ',\n",
       " '+-----------------------------------------------------------------------------+',\n",
       " '| NVIDIA-SMI 440.64       Driver Version: 440.64       CUDA Version: 10.2     |',\n",
       " '|-------------------------------+----------------------+----------------------+',\n",
       " '| GPU  Name        Persistence-M| Bus-Id        Disp.A | Volatile Uncorr. ECC |',\n",
       " '| Fan  Temp  Perf  Pwr:Usage/Cap|         Memory-Usage | GPU-Util  Compute M. |',\n",
       " '|===============================+======================+======================|',\n",
       " '|   0  Quadro RTX 6000     On   | 00000000:00:06.0 Off |                    0 |',\n",
       " '| N/A   51C    P0    71W / 250W |   3748MiB / 22698MiB |      0%      Default |',\n",
       " '+-------------------------------+----------------------+----------------------+',\n",
       " '                                                                               ',\n",
       " '+-----------------------------------------------------------------------------+',\n",
       " '| Processes:                                                       GPU Memory |',\n",
       " '|  GPU       PID   Type   Process name                             Usage      |',\n",
       " '|=============================================================================|',\n",
       " '+-----------------------------------------------------------------------------+']"
      ]
     },
     "execution_count": 3,
     "metadata": {},
     "output_type": "execute_result"
    }
   ],
   "source": [
    "!!nvidia-smi\n",
    "#help(learn.mldel)\n",
    "#doc(learn.model)??d"
   ]
  },
  {
   "cell_type": "code",
   "execution_count": 4,
   "metadata": {},
   "outputs": [],
   "source": [
    "from fastai.vision.all import *\n",
    "path = untar_data(URLs.PETS)"
   ]
  },
  {
   "cell_type": "code",
   "execution_count": 5,
   "metadata": {},
   "outputs": [],
   "source": [
    "#hide\n",
    "Path.BASE_PATH = path"
   ]
  },
  {
   "cell_type": "code",
   "execution_count": 6,
   "metadata": {},
   "outputs": [
    {
     "data": {
      "text/plain": [
       "(#2) [Path('images'),Path('annotations')]"
      ]
     },
     "execution_count": 6,
     "metadata": {},
     "output_type": "execute_result"
    }
   ],
   "source": [
    "path.ls()"
   ]
  },
  {
   "cell_type": "code",
   "execution_count": 7,
   "metadata": {},
   "outputs": [
    {
     "data": {
      "text/plain": [
       "(#7393) [Path('images/Siamese_87.jpg'),Path('images/chihuahua_126.jpg'),Path('images/german_shorthaired_97.jpg'),Path('images/Bombay_157.jpg'),Path('images/Bengal_12.jpg'),Path('images/japanese_chin_116.jpg'),Path('images/havanese_109.jpg'),Path('images/scottish_terrier_122.jpg'),Path('images/yorkshire_terrier_146.jpg'),Path('images/boxer_176.jpg')...]"
      ]
     },
     "execution_count": 7,
     "metadata": {},
     "output_type": "execute_result"
    }
   ],
   "source": [
    "(path/\"images\").ls()"
   ]
  },
  {
   "cell_type": "code",
   "execution_count": 8,
   "metadata": {},
   "outputs": [],
   "source": [
    "fname = (path/\"images\").ls()[0]"
   ]
  },
  {
   "cell_type": "code",
   "execution_count": 9,
   "metadata": {},
   "outputs": [
    {
     "data": {
      "text/plain": [
       "['Siamese']"
      ]
     },
     "execution_count": 9,
     "metadata": {},
     "output_type": "execute_result"
    }
   ],
   "source": [
    "re.findall(r'(.+)_\\d+.jpg$', fname.name)"
   ]
  },
  {
   "cell_type": "code",
   "execution_count": 10,
   "metadata": {},
   "outputs": [],
   "source": [
    "pets = DataBlock(blocks = (ImageBlock, CategoryBlock),\n",
    "                 get_items=get_image_files, \n",
    "                 splitter=RandomSplitter(seed=42),\n",
    "                 get_y=using_attr(RegexLabeller(r'(.+)_\\d+.jpg$'), 'name'),\n",
    "                 item_tfms=Resize(460),\n",
    "                 batch_tfms=aug_transforms(size=224, min_scale=0.75))\n",
    "dls = pets.dataloaders(path/\"images\")"
   ]
  },
  {
   "cell_type": "markdown",
   "metadata": {},
   "source": [
    "## Presizing"
   ]
  },
  {
   "cell_type": "markdown",
   "metadata": {},
   "source": [
    "이미지가 GPU에 전달 될 텐서로 정렬 될 수 있도록 동일한 크기를 가져야합니다. 또한 우리가 수행하는 고유 한 증가 계산의 수를 최소화하려고합니다. 성능 요구 사항은 가능한 경우 augmentation transforms(증강 변환)을 더 적은 변환으로 구성하고 (계산 수와 손실 연산 수를 줄이기 위해) 이미지를 균일 한 크기로 변환 (GPU에서보다 효율적인 처리를 위해)해야한다고 제안합니다.\n",
    "\n",
    "문제는 증가 된 크기로 크기를 조정 한 후 수행 할 경우 다양한 공통 데이터 증가 변환이 허위 빈 영역을 도입하거나 데이터를 저하 시키거나 둘 다를 수행 할 수 있다는 것입니다. 예를 들어 이미지를 45도 회전하면 새 경계의 모서리 영역이 비어 있으므로 모델에 아무것도 가르치지 않습니다. 많은 회전 및 확대 / 축소 작업에서 픽셀을 만들기 위해 interpolating(보간)이 필요합니다. 이러한 보간 된 픽셀은 원본 이미지 데이터에서 파생되지만 여전히 품질이 낮습니다.\n",
    "\n",
    "이러한 문제를 해결하기 위해 presizing(사전 크기 조정)은 << presizing(사전 크기 조정) >>에 표시된 두 가지 전략을 채택합니다.\n",
    "\n",
    "1. 이미지의 크기를 상대적으로 \"큰\"차원, 즉 목표 훈련 차원보다 훨씬 더 큰 차원으로 조정합니다.\n",
    "1. 모든 일반적인 증가 작업 (최종 대상 크기에 대한 크기 조정 포함)을 하나로 구성하고 작업을 개별적으로 수행하고 여러 번 보간하는 대신 처리가 끝날 때 GPU에서 한 번만 결합 된 작업을 수행합니다.\n",
    "\n",
    "첫 번째 단계 인 크기 조정은 빈 영역을 만들지 않고 내부 영역에서 추가 확대 변환을 수행 할 수 있도록 여유 여백을 가질만큼 충분히 큰 이미지를 만듭니다. 이 변형은 큰 자르기 크기를 사용하여 정사각형으로 크기를 조정하여 작동합니다. 훈련 세트에서 자르기 영역은 무작위로 선택되고 자르기 크기는 이미지의 전체 너비 또는 높이 중 작은 쪽을 포함하도록 선택됩니다.\n",
    "\n",
    "두 번째 단계에서 GPU는 모든 데이터 증가에 사용되며 잠재적으로 파괴적인 모든 작업이 끝에서 단일 보간으로 함께 수행됩니다."
   ]
  },
  {
   "cell_type": "markdown",
   "metadata": {},
   "source": [
    "<img alt=\"Presizing on the training set\" width=\"600\" caption=\"Presizing on the training set\" id=\"presizing\" src=\"images/att_00060.png\">"
   ]
  },
  {
   "cell_type": "markdown",
   "metadata": {},
   "source": [
    "This picture shows the two steps:\n",
    "\n",
    "1. * Crop full width or height(전체 너비 또는 높이 자르기) * :`item_tfms`에 있으므로 GPU에 복사되기 전에 각 개별 이미지에 적용됩니다. 모든 이미지가 동일한 크기인지 확인하는 데 사용됩니다. 훈련 세트에서 자르기 영역은 무작위로 선택됩니다. 유효성 검사 세트에서는 이미지의 중앙 사각형이 항상 선택됩니다.\n",
    "2. * Random crop and augment(무작위 자르기 및 증가) * :`batch_tfms`에 있으므로 GPU에서 일괄 처리에 한 번에 적용되므로 빠릅니다. 검증 세트에서는 모델에 필요한 최종 크기로의 크기 조정 만 여기에서 수행됩니다. 훈련 세트에서 무작위 자르기 및 기타 확대 작업이 먼저 수행됩니다.\n",
    "\n",
    "fastai에서이 프로세스를 구현하려면 'Resize'를 큰 크기의 항목 변환으로 사용하고 'RandomResizedCrop'을 작은 크기의 일괄 변환으로 사용합니다. 이전 섹션의 'DataBlock'호출에서했던 것처럼 'aug_transforms'함수에 'min_scale'매개 변수를 포함하면 'RandomResizedCrop'이 추가됩니다. 또는 초기`크기 조정`에`crop` (기본값) 대신`pad` 또는`squish`를 사용할 수 있습니다.\n",
    "\n",
    "<< interpolations(보간) >>은 오른쪽에 표시된 확대, 보간, 회전 및 다시 보간 된 이미지 (다른 모든 딥 러닝 라이브러리에서 사용되는 접근 방식)와 하나의 작업으로 확대 및 회전 한 다음 왼쪽에서 한 번만 보간 (fastai 접근 방식), 여기 왼쪽에 표시됩니다."
   ]
  },
  {
   "cell_type": "code",
   "execution_count": 11,
   "metadata": {
    "hide_input": false
   },
   "outputs": [
    {
     "data": {
      "image/png": "[encoded data removed]",
      "text/plain": [
       "<Figure size 432x216 with 2 Axes>"
      ]
     },
     "metadata": {
      "needs_background": "light"
     },
     "output_type": "display_data"
    }
   ],
   "source": [
    "#hide_input\n",
    "#id interpolations\n",
    "#caption A comparison of fastai's data augmentation strategy (left) and the traditional approach (right).\n",
    "dblock1 = DataBlock(blocks=(ImageBlock(), CategoryBlock()),\n",
    "                   get_y=parent_label,\n",
    "                   item_tfms=Resize(460))\n",
    "#dls1 = dblock1.dataloaders([(Path.cwd()/'images'/'grizzly.jpg')]*100, bs=8)\n",
    "dls1 = dblock1.dataloaders([(path/'images'/'beagle_191.jpg')]*100, bs=8)\n",
    "dls1.train.get_idxs = lambda: Inf.ones\n",
    "x,y = dls1.valid.one_batch()\n",
    "_,axs = subplots(1, 2)\n",
    "\n",
    "x1 = TensorImage(x.clone())\n",
    "x1 = x1.affine_coord(sz=224)\n",
    "x1 = x1.rotate(draw=30, p=1.)\n",
    "x1 = x1.zoom(draw=1.2, p=1.)\n",
    "x1 = x1.warp(draw_x=-0.2, draw_y=0.2, p=1.)\n",
    "\n",
    "tfms = setup_aug_tfms([Rotate(draw=30, p=1, size=224), Zoom(draw=1.2, p=1., size=224),\n",
    "                       Warp(draw_x=-0.2, draw_y=0.2, p=1., size=224)])\n",
    "x = Pipeline(tfms)(x)\n",
    "#x.affine_coord(coord_tfm=coord_tfm, sz=size, mode=mode, pad_mode=pad_mode)\n",
    "TensorImage(x[0]).show(ctx=axs[0])\n",
    "TensorImage(x1[0]).show(ctx=axs[1]);"
   ]
  },
  {
   "cell_type": "markdown",
   "metadata": {},
   "source": [
    "## Improving Our Model(모델 개선)"
   ]
  },
  {
   "cell_type": "markdown",
   "metadata": {},
   "source": [
    "이제 모델의 학습을 개선하고 개선하기위한 다양한 기술을 살펴 보겠습니다. 그렇게하는 동안 전이 학습에 대해 조금 더 설명하고 사전 훈련 된 가중치를 깨지 않고 가능한 한 최선으로 사전 훈련 된 모델을 미세 조정하는 방법을 설명합니다.\n",
    "모델을 훈련 할 때 가장 먼저 설정해야하는 것은 learning rate 입니다. 우리는 이전 장에서 가능한 한 효율적으로 훈련하는 것이 옳 아야한다는 것을 보았습니다. 그렇다면 좋은 훈련을 어떻게 선택합니까? fastai는이를 위한 도구를 제공합니다."
   ]
  },
  {
   "cell_type": "code",
   "execution_count": 38,
   "metadata": {},
   "outputs": [],
   "source": [
    "#!pip install -U pandoc nbconvedrt==5.6.1"
   ]
  },
  {
   "cell_type": "markdown",
   "metadata": {},
   "source": [
    "# Image Classification"
   ]
  },
  {
   "cell_type": "markdown",
   "metadata": {},
   "source": [
    "### The Learning Rate Finder"
   ]
  },
  {
   "cell_type": "markdown",
   "metadata": {},
   "source": [
    "모델을 훈련 할 때 우리가 할 수있는 가장 중요한 일 중 하나는 올바른 learning rate 이 있는지 확인하는 것입니다.\n",
    "learning rate 이 너무 낮 으면 모델을 훈련하는 데 많은 epochs 가 걸릴 수 있습니다.\n",
    "이로 인해 시간이 낭비 될뿐만 아니라 과적 합에 문제가 있을 수 있습니다. 데이터를 완전히 통과 할 때마다 모델이 이를 기억할 수있는 기회를 주기 때문입니다.\n",
    "\n",
    "그럼 우리의 learning rate 을 정말 높게 만들어 봅시다. 맞죠? 물론입니다. 시도해 보겠습니다."
   ]
  },
  {
   "cell_type": "code",
   "execution_count": 65,
   "metadata": {
    "scrolled": true
   },
   "outputs": [
    {
     "data": {
      "text/html": [
       "<table border=\"1\" class=\"dataframe\">\n",
       "  <thead>\n",
       "    <tr style=\"text-align: left;\">\n",
       "      <th>epoch</th>\n",
       "      <th>train_loss</th>\n",
       "      <th>valid_loss</th>\n",
       "      <th>error_rate</th>\n",
       "      <th>accuracy</th>\n",
       "      <th>time</th>\n",
       "    </tr>\n",
       "  </thead>\n",
       "  <tbody>\n",
       "    <tr>\n",
       "      <td>0</td>\n",
       "      <td>2.811219</td>\n",
       "      <td>4.816168</td>\n",
       "      <td>0.470907</td>\n",
       "      <td>0.529093</td>\n",
       "      <td>00:33</td>\n",
       "    </tr>\n",
       "  </tbody>\n",
       "</table>"
      ],
      "text/plain": [
       "<IPython.core.display.HTML object>"
      ]
     },
     "metadata": {},
     "output_type": "display_data"
    },
    {
     "data": {
      "text/html": [
       "<table border=\"1\" class=\"dataframe\">\n",
       "  <thead>\n",
       "    <tr style=\"text-align: left;\">\n",
       "      <th>epoch</th>\n",
       "      <th>train_loss</th>\n",
       "      <th>valid_loss</th>\n",
       "      <th>error_rate</th>\n",
       "      <th>accuracy</th>\n",
       "      <th>time</th>\n",
       "    </tr>\n",
       "  </thead>\n",
       "  <tbody>\n",
       "    <tr>\n",
       "      <td>0</td>\n",
       "      <td>3.424243</td>\n",
       "      <td>2.475913</td>\n",
       "      <td>0.471583</td>\n",
       "      <td>0.528417</td>\n",
       "      <td>00:38</td>\n",
       "    </tr>\n",
       "    <tr>\n",
       "      <td>1</td>\n",
       "      <td>1.970658</td>\n",
       "      <td>4.125483</td>\n",
       "      <td>0.608931</td>\n",
       "      <td>0.391069</td>\n",
       "      <td>00:37</td>\n",
       "    </tr>\n",
       "    <tr>\n",
       "      <td>2</td>\n",
       "      <td>1.778953</td>\n",
       "      <td>5.033820</td>\n",
       "      <td>0.717862</td>\n",
       "      <td>0.282138</td>\n",
       "      <td>00:37</td>\n",
       "    </tr>\n",
       "    <tr>\n",
       "      <td>3</td>\n",
       "      <td>3.725295</td>\n",
       "      <td>4.192646</td>\n",
       "      <td>0.917456</td>\n",
       "      <td>0.082544</td>\n",
       "      <td>00:37</td>\n",
       "    </tr>\n",
       "    <tr>\n",
       "      <td>4</td>\n",
       "      <td>3.591733</td>\n",
       "      <td>4.358880</td>\n",
       "      <td>0.824087</td>\n",
       "      <td>0.175913</td>\n",
       "      <td>00:40</td>\n",
       "    </tr>\n",
       "    <tr>\n",
       "      <td>5</td>\n",
       "      <td>3.186769</td>\n",
       "      <td>14.519431</td>\n",
       "      <td>0.772666</td>\n",
       "      <td>0.227334</td>\n",
       "      <td>00:38</td>\n",
       "    </tr>\n",
       "    <tr>\n",
       "      <td>6</td>\n",
       "      <td>2.648999</td>\n",
       "      <td>1.814675</td>\n",
       "      <td>0.571719</td>\n",
       "      <td>0.428281</td>\n",
       "      <td>00:40</td>\n",
       "    </tr>\n",
       "    <tr>\n",
       "      <td>7</td>\n",
       "      <td>2.094190</td>\n",
       "      <td>1492.908325</td>\n",
       "      <td>0.496617</td>\n",
       "      <td>0.503383</td>\n",
       "      <td>00:37</td>\n",
       "    </tr>\n",
       "    <tr>\n",
       "      <td>8</td>\n",
       "      <td>1.725954</td>\n",
       "      <td>42.514191</td>\n",
       "      <td>0.468877</td>\n",
       "      <td>0.531123</td>\n",
       "      <td>00:36</td>\n",
       "    </tr>\n",
       "    <tr>\n",
       "      <td>9</td>\n",
       "      <td>1.425681</td>\n",
       "      <td>268.879425</td>\n",
       "      <td>0.308525</td>\n",
       "      <td>0.691475</td>\n",
       "      <td>00:37</td>\n",
       "    </tr>\n",
       "    <tr>\n",
       "      <td>10</td>\n",
       "      <td>1.153194</td>\n",
       "      <td>1.858583</td>\n",
       "      <td>0.276049</td>\n",
       "      <td>0.723951</td>\n",
       "      <td>00:36</td>\n",
       "    </tr>\n",
       "    <tr>\n",
       "      <td>11</td>\n",
       "      <td>1.046543</td>\n",
       "      <td>2.850104</td>\n",
       "      <td>0.269283</td>\n",
       "      <td>0.730717</td>\n",
       "      <td>00:37</td>\n",
       "    </tr>\n",
       "  </tbody>\n",
       "</table>"
      ],
      "text/plain": [
       "<IPython.core.display.HTML object>"
      ]
     },
     "metadata": {},
     "output_type": "display_data"
    }
   ],
   "source": [
    "learn = cnn_learner(dls, resnet34, metrics=[error_rate, accuracy])\n",
    "#learn.fine_tune(1, base_lr=0.1)\n",
    "learn.fine_tune(12, base_lr=0.1)"
   ]
  },
  {
   "cell_type": "markdown",
   "metadata": {},
   "source": [
    "여기에 무슨 일이 있었는지 좋지 않은 것 같습니다.\n",
    "optimizer 는 올바른 방향으로 갔지만 지금까지 밟아서 minimum loss 를 완전히 초과했습니다.\n",
    "이를 여러 번 반복하면 더 가까워지지 않고 더 멀어집니다!\n",
    "\n",
    "너무 높지 않고 너무 낮지도 않은 완벽한 learning rate 을 찾기 위해 어떻게해야합니까?\n",
    "2015 년에 연구원 Leslie Smith (레슬리 스미스)는 * learning rate finder *라는 훌륭한 아이디어를 내놓았습니다.\n",
    "\n",
    "그의 아이디어는 매우 작은 learning rate로 시작하는 것이 었습니다. 너무 작아서 처리하기에는 너무 크지 않을 것이라고 예상 할 수 없었습니다. 우리는 그것을 하나의 mini-batch에 사용하고, 나중에 losse 가  무엇인지 찾은 다음, learning rate 을 일정 비율로 증가시킵니다 (예 : 매번 두 배로 증가). 그런 다음 다시 미니 배치를 수행하고 losse 를 추적하고 learning rate 를 다시 두 배로 늘립니다.\n",
    "\n",
    "그런 다음 다시 미니 배치를 수행하고 loss를 추적하고 learning rate을 다시 두 배로 늘립니다.\n",
    "우리는 loss가 더 나아지는 것이 아니라 더 나빠질 때까지 이것을 계속합니다.\n",
    "이것은 우리가 너무 멀리 갔다는 것을 아는 지점입니다.\n",
    "그런 다음이 지점보다 약간 낮은 learning rate 을 선택합니다. 우리의 조언은 다음 중 하나를 선택하는 것입니다.\n",
    "\n",
    "- 최소 loss 이 달성 된 지점보다 1 배 더 작음 (즉, 최소값을 10으로 나눈 값)\n",
    "- loss가  분명히 감소한 마지막 지점\n",
    "\n",
    "학습률 파인더는 곡선에서 이러한 포인트를 계산하여 도움을줍니다. 이 두 규칙은 일반적으로 거의 동일한 값을 제공합니다. 첫 번째 장에서는 fastai 라이브러리의 기본값 (1e-3)을 사용하여 learning rate 을 지정하지 않았습니다."
   ]
  },
  {
   "cell_type": "code",
   "execution_count": 66,
   "metadata": {},
   "outputs": [
    {
     "data": {
      "text/html": [],
      "text/plain": [
       "<IPython.core.display.HTML object>"
      ]
     },
     "metadata": {},
     "output_type": "display_data"
    },
    {
     "data": {
      "image/png": "[encoded data removed]",
      "text/plain": [
       "<Figure size 432x288 with 1 Axes>"
      ]
     },
     "metadata": {
      "needs_background": "light"
     },
     "output_type": "display_data"
    }
   ],
   "source": [
    "learn = cnn_learner(dls, resnet34, metrics=[error_rate, accuracy])\n",
    "lr_min,lr_steep = learn.lr_find()"
   ]
  },
  {
   "cell_type": "code",
   "execution_count": 67,
   "metadata": {},
   "outputs": [
    {
     "name": "stdout",
     "output_type": "stream",
     "text": [
      "Minimum/10: 1.00e-02, steepest point: 3.63e-03\n",
      "Minimum/10: 0.01000000, steepest point: 0.00363078\n"
     ]
    }
   ],
   "source": [
    "print(f\"Minimum/10: {lr_min:.2e}, steepest point: {lr_steep:.2e}\")\n",
    "print(f\"Minimum/10: {lr_min:.8f}, steepest point: {lr_steep:.8f}\")"
   ]
  },
  {
   "cell_type": "markdown",
   "metadata": {},
   "source": [
    "이 플롯에서 1e-6에서 1e-3까지의 범위에서는 실제로 아무 일도 일어나지 않고 모델이 훈련되지 않는다는 것을 알 수 있습니다.\n",
    "그런 다음 loss는 최소값에 도달 할 때까지 감소하기 시작했다가 다시 증가합니다.\n",
    "우리는 1e-1보다 더 큰 learning rate를 원하지 않습니다. 이전과 같은 훈련을 제공하기 때문입니다 (스스로 시도 할 수 있음). 그러나 1e-1은 이미 너무 높습니다. : 이 단계에서 우리는 손실이 꾸준히 감소하는 기간 입니다.\n",
    "\n",
    "이 학습률 도표에서 3e-3 정도의 learning rate가 적절할 것으로 보이므로 다음 중 하나를 선택해 보겠습니다."
   ]
  },
  {
   "cell_type": "code",
   "execution_count": 68,
   "metadata": {},
   "outputs": [
    {
     "data": {
      "text/html": [
       "<table border=\"1\" class=\"dataframe\">\n",
       "  <thead>\n",
       "    <tr style=\"text-align: left;\">\n",
       "      <th>epoch</th>\n",
       "      <th>train_loss</th>\n",
       "      <th>valid_loss</th>\n",
       "      <th>accuracy</th>\n",
       "      <th>error_rate</th>\n",
       "      <th>time</th>\n",
       "    </tr>\n",
       "  </thead>\n",
       "  <tbody>\n",
       "    <tr>\n",
       "      <td>0</td>\n",
       "      <td>1.289823</td>\n",
       "      <td>0.350821</td>\n",
       "      <td>0.895129</td>\n",
       "      <td>0.104871</td>\n",
       "      <td>00:34</td>\n",
       "    </tr>\n",
       "  </tbody>\n",
       "</table>"
      ],
      "text/plain": [
       "<IPython.core.display.HTML object>"
      ]
     },
     "metadata": {},
     "output_type": "display_data"
    },
    {
     "data": {
      "text/html": [
       "<table border=\"1\" class=\"dataframe\">\n",
       "  <thead>\n",
       "    <tr style=\"text-align: left;\">\n",
       "      <th>epoch</th>\n",
       "      <th>train_loss</th>\n",
       "      <th>valid_loss</th>\n",
       "      <th>accuracy</th>\n",
       "      <th>error_rate</th>\n",
       "      <th>time</th>\n",
       "    </tr>\n",
       "  </thead>\n",
       "  <tbody>\n",
       "    <tr>\n",
       "      <td>0</td>\n",
       "      <td>0.437231</td>\n",
       "      <td>0.229222</td>\n",
       "      <td>0.918133</td>\n",
       "      <td>0.081867</td>\n",
       "      <td>00:39</td>\n",
       "    </tr>\n",
       "    <tr>\n",
       "      <td>1</td>\n",
       "      <td>0.337272</td>\n",
       "      <td>0.342627</td>\n",
       "      <td>0.892422</td>\n",
       "      <td>0.107578</td>\n",
       "      <td>00:36</td>\n",
       "    </tr>\n",
       "    <tr>\n",
       "      <td>2</td>\n",
       "      <td>0.350027</td>\n",
       "      <td>0.395267</td>\n",
       "      <td>0.884980</td>\n",
       "      <td>0.115020</td>\n",
       "      <td>00:31</td>\n",
       "    </tr>\n",
       "    <tr>\n",
       "      <td>3</td>\n",
       "      <td>0.339811</td>\n",
       "      <td>0.521901</td>\n",
       "      <td>0.868065</td>\n",
       "      <td>0.131935</td>\n",
       "      <td>00:31</td>\n",
       "    </tr>\n",
       "    <tr>\n",
       "      <td>4</td>\n",
       "      <td>0.248116</td>\n",
       "      <td>0.355877</td>\n",
       "      <td>0.900541</td>\n",
       "      <td>0.099459</td>\n",
       "      <td>00:37</td>\n",
       "    </tr>\n",
       "    <tr>\n",
       "      <td>5</td>\n",
       "      <td>0.199430</td>\n",
       "      <td>0.368993</td>\n",
       "      <td>0.903248</td>\n",
       "      <td>0.096752</td>\n",
       "      <td>00:39</td>\n",
       "    </tr>\n",
       "    <tr>\n",
       "      <td>6</td>\n",
       "      <td>0.168403</td>\n",
       "      <td>0.345547</td>\n",
       "      <td>0.910014</td>\n",
       "      <td>0.089986</td>\n",
       "      <td>00:39</td>\n",
       "    </tr>\n",
       "    <tr>\n",
       "      <td>7</td>\n",
       "      <td>0.109880</td>\n",
       "      <td>0.333370</td>\n",
       "      <td>0.914073</td>\n",
       "      <td>0.085927</td>\n",
       "      <td>00:37</td>\n",
       "    </tr>\n",
       "    <tr>\n",
       "      <td>8</td>\n",
       "      <td>0.072189</td>\n",
       "      <td>0.286546</td>\n",
       "      <td>0.929635</td>\n",
       "      <td>0.070365</td>\n",
       "      <td>00:39</td>\n",
       "    </tr>\n",
       "    <tr>\n",
       "      <td>9</td>\n",
       "      <td>0.051363</td>\n",
       "      <td>0.262544</td>\n",
       "      <td>0.928281</td>\n",
       "      <td>0.071719</td>\n",
       "      <td>00:38</td>\n",
       "    </tr>\n",
       "    <tr>\n",
       "      <td>10</td>\n",
       "      <td>0.039290</td>\n",
       "      <td>0.252289</td>\n",
       "      <td>0.932341</td>\n",
       "      <td>0.067659</td>\n",
       "      <td>00:37</td>\n",
       "    </tr>\n",
       "    <tr>\n",
       "      <td>11</td>\n",
       "      <td>0.032803</td>\n",
       "      <td>0.253591</td>\n",
       "      <td>0.932341</td>\n",
       "      <td>0.067659</td>\n",
       "      <td>00:37</td>\n",
       "    </tr>\n",
       "  </tbody>\n",
       "</table>"
      ],
      "text/plain": [
       "<IPython.core.display.HTML object>"
      ]
     },
     "metadata": {},
     "output_type": "display_data"
    }
   ],
   "source": [
    "learn = cnn_learner(dls, resnet34, metrics=[accuracy, error_rate])\n",
    "learn.fine_tune(12, base_lr=3e-3)"
   ]
  },
  {
   "cell_type": "markdown",
   "metadata": {},
   "source": [
    "> 참고 : Logarithmic Scale(로그 척도) : learning rate finder 플롯에는 Logarithmic Scale이 있으므로 1e-3과 1e-2 사이의 중간 점이 3e-3과 4e-3 사이에 있습니다. 이것은 우리가 주로 learning rate의 정도에 관심이 있기 때문입니다."
   ]
  },
  {
   "cell_type": "markdown",
   "metadata": {},
   "source": [
    "learning rate finder(학습률 파인더)는 2015 년에야 발견되었고 신경망은 1950 년대부터 개발 중이라는 점이 흥미롭습니다. \n",
    "그 시간 동안 좋은 learning rate 을 찾는 것은 아마도 실무자에게 가장 중요하고 도전적인 문제였습니다. \n",
    "soltuon에는 고급 수학, 거대한 컴퓨팅 리소스, 방대한 데이터 세트 또는 호기심 많은 연구원이 액세스 할 수 없는 기타 모든 것이 필요하지 않습니다. \n",
    "또한 Leslie Smith는 일부 독점 실리콘 밸리 연구소의 일원이 아니었지만 해군 연구원으로 일하고있었습니다. \n",
    "이 모든 것은: 딥 러닝의 획기적인 작업에는 방대한 리소스, 엘리트 팀 또는 고급 수학적 아이디어에 대한 액세스가 절대적으로 필요하지 않습니다. 약간의 상식, 창의성 및 끈기가 필요한 작업이 아직 많이 남아 있습니다."
   ]
  },
  {
   "cell_type": "markdown",
   "metadata": {},
   "source": [
    "모델을 학습 할 수있는 좋은 학습률을 얻었으므로 사전 학습 된 모델의 가중치를 미세 조정할 수있는 방법을 살펴 보겠습니다."
   ]
  },
  {
   "cell_type": "markdown",
   "metadata": {},
   "source": [
    "### Unfreezing and Transfer Learning(고정 해제 및 전이 학습)"
   ]
  },
  {
   "cell_type": "markdown",
   "metadata": {},
   "source": [
    "<<chapter_intro>> 에서 전이 학습이 작동하는 방식에 대해 간략하게 논의했습니다. 기본 아이디어는 잠재적으로 수백만 개의 데이터 포인트 (예 : ImageNet)에서 훈련 된 사전 훈련 된 모델이 다른 작업에 대해 미세 조정된다는 것입니다. 그러나 이것이 실제로 무엇을 의미합니까?\n",
    "\n",
    "우리는 이제 convolutional neural network 이 각 쌍 사이에 비선형 활성화 함수가있는 많은 선형 계층과 맨 끝에 소프트 맥스와 같은 활성화 함수가있는 하나 이상의 final linear layers(최종 선형 계층)으로 구성된다는 것을 알고 있습니다. 최종 선형 계층은 출력 크기가 모델의 클래스 수와 같도록 충분한 열이있는 행렬을 사용합니다 (분류를 수행한다고 가정).\n",
    "\n",
    "이 최종 선형 계층은 transfer learning(전이 학습) 설정에서 미세 조정할 때 유용하지 않을 것입니다. 원래 pretraining dataset(사전 훈련 데이터 세트)의 범주를 분류하도록 특별히 설계 되었기 때문입니다. 따라서 전이 학습을 수행 할 때 이를 제거하고 버리고 원하는 작업에 대한 정확한 출력 수를 가진 새로운 선형 레이어로 교체합니다 (이 경우 37 개의 활성화가 있음).\n",
    "\n",
    "새로 추가 된이 선형 레이어는 완전히 무작위 가중치를 갖습니다. 따라서 미세 조정 이전의 모델은 완전히 무작위로 출력됩니다. 그러나 그것이 완전히 무작위 모델이라는 것을 의미하지는 않습니다! 마지막 레이어 이전의 모든 레이어는 일반적으로 이미지 분류 작업에 능숙하도록 신중하게 훈련되었습니다.\n",
    "<< chapter_intro >>의 [Zeiler and Fergus paper] (https://arxiv.org/pdf/1311.2901.pdf) 이미지에서 보듯이 (<< img_layer1 >>부터 << img_layer4 >>까지 참조), 처음 몇 개의 레이어는 그라디언트 및 가장자리 찾기와 같은 매우 일반적인 개념을 인코딩하고 이후 레이어는 눈알과 털 찾기와 같이 여전히 우리에게 매우 유용한 개념을 인코딩합니다.\n",
    "![img_layer1부터 img_layer5까지 ](./layer1_layer5.PNG)\n",
    "\n",
    "우리는 사전 훈련 된 모델에서 일반적으로 유용한 모든 아이디어를 기억하고,이를 사용하여 특정 작업 (애완 동물 품종 분류)을 해결하고, 세부 사항에 필요한 대로만 조정할 수 있도록 우리의 특별한 임무에 모델을 훈련시키고 싶습니다.\n",
    "\n",
    "미세 조정시 우리의 과제는 추가 된 선형 레이어의 무작위 가중치를 신중하게 사전 훈련 된 가중치와 다른 레이어를 깨지 않고 원하는 작업 (애완 동물 품종 분류)을 올바르게 달성하는 가중치로 대체하는 것입니다. \n",
    "실제로 이것을 가능하게하는 아주 간단한 트릭이 있습니다 : 옵티 마이저에게 무작위로 추가 된 최종 레이어의 가중치 만 업데이트하도록 지시하십시오. 나머지 신경망의 가중치를 전혀 변경하지 마십시오.\n",
    "이를 사전 훈련 된 레이어를 *freezing* (고정 )한다 라고합니다."
   ]
  },
  {
   "cell_type": "markdown",
   "metadata": {},
   "source": [
    "\n",
    "사전 훈련 된 네트워크에서 모델을 생성 할 때 fastai는 사전 훈련 된 모든 계층을 자동으로 고정시킵니다. `fine_tune` 메소드를 호출하면 fastai는 두 가지 작업을 수행합니다.\n",
    "\n",
    "- 다른 모든 레이어가 고정 된 상태에서 한 epoch 동안 무작위로 추가 된 레이어를 훈련시킵니다.\n",
    "- 모든 레이어를 Unfreezes(고정 해제)하고 요청 된 Epoch 수에 대해 모두 훈련합니다.\n",
    "\n",
    "이것은 합리적인 기본 접근 방식이지만 특정 데이터 세트에 대해 약간 다른 작업을 수행하면 더 나은 결과를 얻을 수 있습니다. \n",
    "`fine_tune` 메서드에는 동작을 변경하는 데 사용할 수있는 여러 parameters가 있지만 일부 사용자 지정 동작을 얻으려면 기본 메서드를 직접 호출하는 것이 가장 쉬울 수 있습니다.\n",
    "다음 구문을 사용하여 메서드의 소스 코드를 볼 수 있습니다.:\n",
    "\n",
    "    learn.fine_tune??\n",
    "\n",
    "그러니 직접 수동으로 시도해 봅시다. \n",
    "우선 우리는`fit_one_cycle`을 사용하여 3 개의 epoch 동안 무작위로 추가 된 레이어를 훈련 할 것입니다. \n",
    "<< chapter_intro >>에서 언급했듯이\n",
    "`fit_one_cycle`은`fine_tune`을 사용하지 않고 모델을 학습시키는 권장 방법입니다. 그 이유는 나중에 책에서; \n",
    "간단히 말해서`fit_one_cycle`이하는 일은 낮은 learning rate 로 훈련을 시작하고 훈련의 첫 번째 섹션에 대해 점차적으로 증가시킨 다음 마지막 훈련 섹션에 대해 점차적으로 다시 감소시키는 것입니다."
   ]
  },
  {
   "cell_type": "code",
   "execution_count": 69,
   "metadata": {},
   "outputs": [],
   "source": [
    "learn.fine_tune??"
   ]
  },
  {
   "cell_type": "code",
   "execution_count": 70,
   "metadata": {},
   "outputs": [
    {
     "data": {
      "text/html": [
       "<table border=\"1\" class=\"dataframe\">\n",
       "  <thead>\n",
       "    <tr style=\"text-align: left;\">\n",
       "      <th>epoch</th>\n",
       "      <th>train_loss</th>\n",
       "      <th>valid_loss</th>\n",
       "      <th>accuracy</th>\n",
       "      <th>error_rate</th>\n",
       "      <th>time</th>\n",
       "    </tr>\n",
       "  </thead>\n",
       "  <tbody>\n",
       "    <tr>\n",
       "      <td>0</td>\n",
       "      <td>1.110254</td>\n",
       "      <td>0.347498</td>\n",
       "      <td>0.887010</td>\n",
       "      <td>0.112991</td>\n",
       "      <td>00:29</td>\n",
       "    </tr>\n",
       "    <tr>\n",
       "      <td>1</td>\n",
       "      <td>0.521288</td>\n",
       "      <td>0.282984</td>\n",
       "      <td>0.905954</td>\n",
       "      <td>0.094046</td>\n",
       "      <td>00:30</td>\n",
       "    </tr>\n",
       "    <tr>\n",
       "      <td>2</td>\n",
       "      <td>0.328797</td>\n",
       "      <td>0.250025</td>\n",
       "      <td>0.918133</td>\n",
       "      <td>0.081867</td>\n",
       "      <td>00:32</td>\n",
       "    </tr>\n",
       "  </tbody>\n",
       "</table>"
      ],
      "text/plain": [
       "<IPython.core.display.HTML object>"
      ]
     },
     "metadata": {},
     "output_type": "display_data"
    }
   ],
   "source": [
    "learn = cnn_learner(dls, resnet34, metrics=[accuracy, error_rate])\n",
    "learn.fit_one_cycle(3, 3e-3)"
   ]
  },
  {
   "cell_type": "markdown",
   "metadata": {},
   "source": [
    "그런 다음 모델을 unfreeze(고정 해제) 합니다."
   ]
  },
  {
   "cell_type": "code",
   "execution_count": 71,
   "metadata": {},
   "outputs": [],
   "source": [
    "learn.unfreeze()"
   ]
  },
  {
   "cell_type": "markdown",
   "metadata": {},
   "source": [
    "훈련 할 레이어가 더 많고 이미 세 epoch 동안 훈련 된 가중치가 있으므로`lr_find`를 다시 실행하면 이전에 찾은 learning rate 이 더 이상 적절하지 않습니다."
   ]
  },
  {
   "cell_type": "code",
   "execution_count": 72,
   "metadata": {},
   "outputs": [
    {
     "data": {
      "text/html": [],
      "text/plain": [
       "<IPython.core.display.HTML object>"
      ]
     },
     "metadata": {},
     "output_type": "display_data"
    },
    {
     "data": {
      "text/plain": [
       "SuggestedLRs(lr_min=2.2908675418875645e-07, lr_steep=1.5848931980144698e-06)"
      ]
     },
     "execution_count": 72,
     "metadata": {},
     "output_type": "execute_result"
    },
    {
     "data": {
      "image/png": "[encoded data removed]",
      "text/plain": [
       "<Figure size 432x288 with 1 Axes>"
      ]
     },
     "metadata": {
      "needs_background": "light"
     },
     "output_type": "display_data"
    }
   ],
   "source": [
    "learn.lr_find()"
   ]
  },
  {
   "cell_type": "markdown",
   "metadata": {},
   "source": [
    "그래프는 무작위 가중치가있을 때와 약간 다릅니다. 모델이 훈련 중임을 나타내는 급강하가 없습니다. 우리 모델이 이미 훈련 되었기 때문입니다. 여기에서는 급격한 증가 이전에 다소 평평한 영역이 있으며, 급격한 증가 이전에 한 점을 취해야합니다 (예 : 1e-5). 최대 기울기가있는 점은 여기서 찾는 것이 아니므로 무시해야합니다.\n",
    "\n",
    "적절한 학습률로 훈련합시다.:"
   ]
  },
  {
   "cell_type": "code",
   "execution_count": 73,
   "metadata": {
    "scrolled": true
   },
   "outputs": [
    {
     "data": {
      "text/html": [
       "<table border=\"1\" class=\"dataframe\">\n",
       "  <thead>\n",
       "    <tr style=\"text-align: left;\">\n",
       "      <th>epoch</th>\n",
       "      <th>train_loss</th>\n",
       "      <th>valid_loss</th>\n",
       "      <th>accuracy</th>\n",
       "      <th>error_rate</th>\n",
       "      <th>time</th>\n",
       "    </tr>\n",
       "  </thead>\n",
       "  <tbody>\n",
       "    <tr>\n",
       "      <td>0</td>\n",
       "      <td>0.262687</td>\n",
       "      <td>0.241214</td>\n",
       "      <td>0.919486</td>\n",
       "      <td>0.080514</td>\n",
       "      <td>00:40</td>\n",
       "    </tr>\n",
       "    <tr>\n",
       "      <td>1</td>\n",
       "      <td>0.245825</td>\n",
       "      <td>0.236631</td>\n",
       "      <td>0.921516</td>\n",
       "      <td>0.078484</td>\n",
       "      <td>00:37</td>\n",
       "    </tr>\n",
       "    <tr>\n",
       "      <td>2</td>\n",
       "      <td>0.221068</td>\n",
       "      <td>0.234177</td>\n",
       "      <td>0.922192</td>\n",
       "      <td>0.077808</td>\n",
       "      <td>00:37</td>\n",
       "    </tr>\n",
       "    <tr>\n",
       "      <td>3</td>\n",
       "      <td>0.227308</td>\n",
       "      <td>0.229836</td>\n",
       "      <td>0.926252</td>\n",
       "      <td>0.073748</td>\n",
       "      <td>00:38</td>\n",
       "    </tr>\n",
       "    <tr>\n",
       "      <td>4</td>\n",
       "      <td>0.197394</td>\n",
       "      <td>0.224253</td>\n",
       "      <td>0.926928</td>\n",
       "      <td>0.073072</td>\n",
       "      <td>00:39</td>\n",
       "    </tr>\n",
       "    <tr>\n",
       "      <td>5</td>\n",
       "      <td>0.185890</td>\n",
       "      <td>0.222267</td>\n",
       "      <td>0.930988</td>\n",
       "      <td>0.069012</td>\n",
       "      <td>00:38</td>\n",
       "    </tr>\n",
       "    <tr>\n",
       "      <td>6</td>\n",
       "      <td>0.157477</td>\n",
       "      <td>0.219605</td>\n",
       "      <td>0.929635</td>\n",
       "      <td>0.070365</td>\n",
       "      <td>00:39</td>\n",
       "    </tr>\n",
       "    <tr>\n",
       "      <td>7</td>\n",
       "      <td>0.140638</td>\n",
       "      <td>0.218569</td>\n",
       "      <td>0.929635</td>\n",
       "      <td>0.070365</td>\n",
       "      <td>00:38</td>\n",
       "    </tr>\n",
       "    <tr>\n",
       "      <td>8</td>\n",
       "      <td>0.140210</td>\n",
       "      <td>0.215746</td>\n",
       "      <td>0.930988</td>\n",
       "      <td>0.069012</td>\n",
       "      <td>00:37</td>\n",
       "    </tr>\n",
       "    <tr>\n",
       "      <td>9</td>\n",
       "      <td>0.131735</td>\n",
       "      <td>0.215612</td>\n",
       "      <td>0.933694</td>\n",
       "      <td>0.066306</td>\n",
       "      <td>00:37</td>\n",
       "    </tr>\n",
       "    <tr>\n",
       "      <td>10</td>\n",
       "      <td>0.140809</td>\n",
       "      <td>0.214021</td>\n",
       "      <td>0.933018</td>\n",
       "      <td>0.066982</td>\n",
       "      <td>00:37</td>\n",
       "    </tr>\n",
       "    <tr>\n",
       "      <td>11</td>\n",
       "      <td>0.135007</td>\n",
       "      <td>0.211719</td>\n",
       "      <td>0.934371</td>\n",
       "      <td>0.065629</td>\n",
       "      <td>00:38</td>\n",
       "    </tr>\n",
       "  </tbody>\n",
       "</table>"
      ],
      "text/plain": [
       "<IPython.core.display.HTML object>"
      ]
     },
     "metadata": {},
     "output_type": "display_data"
    }
   ],
   "source": [
    "learn.fit_one_cycle(12, lr_max=1e-5)"
   ]
  },
  {
   "cell_type": "markdown",
   "metadata": {},
   "source": [
    "이것은 우리의 모델을 약간 향상 시켰지만 우리가 할 수있는 것이 더 있습니다. 사전 훈련 된 모델의 가장 깊은 계층은 마지막 계층만큼 높은 learning rate가 필요하지 않을 수 있으므로 이러한 계층에 대해 다른 학습률을 사용해야합니다.이를 discriminative learning rates(차별적 학습률) 사용이라고합니다."
   ]
  },
  {
   "cell_type": "markdown",
   "metadata": {},
   "source": [
    "### Discriminative Learning Rates(차별적 학습률)"
   ]
  },
  {
   "cell_type": "markdown",
   "metadata": {},
   "source": [
    "unfreeze(고정을 해제) 한 후에도 사전 훈련 된 가중치의 품질에 여전히 많은 관심을 기울입니다. 사전 훈련 된 매개 변수에 대한 최상의 학습률이 무작위로 추가 된 매개 변수만큼 높을 것이라고는 예상하지 못합니다. 심지어 몇 epochs 동안 무작위로 추가 된 parameters를 조정 한 후에도 마찬가지입니다. 사전 훈련 된 가중치는 수백만 개의 이미지에 대해 수백 개의 epoch에 대해 훈련되었습니다.\n",
    "\n",
    "또한 << chapter_intro >>에서 본 이미지를 기억하십니까? 각 레이어가 학습 한 내용을 보여줍니다. 첫 번째 레이어는 edge 및 gradient detectors와 같은 매우 간단한 기초를 학습합니다. 거의 모든 작업에 유용 할 수 있습니다. 이후 레이어는 \"눈\"및 \"일몰\"과 같은 훨씬 더 복잡한 개념을 학습하는데, 이는 작업에 전혀 유용하지 않을 수 있습니다 (예를 들어 자동차 모델을 분류 할 수 있음). 따라서 이후 레이어가 이전 레이어보다 더 빠르게 미세 조정되도록하는 것이 좋습니다.\n",
    "\n",
    "따라서 fastai의 기본 접근 방식은 discriminative learning rates(차별적인 학습률) 을 사용하는 것입니다. 이것은 원래 << chapter_nlp >>에서 소개 할 NLP 전이 학습에 대한 ULMFiT 접근 방식에서 개발되었습니다. 딥 러닝의 많은 좋은 아이디어와 마찬가지로 매우 간단합니다. 신경망의 초기 계층에는 낮은 learning rates을 사용하고 이후 계층 (특히 무작위로 추가 된 계층)에는 더 높은 learning rates을 사용합니다. 이 아이디어는 [Jason Yosinski] (https://arxiv.org/abs/1411.1792)가 개발 한 인사이트를 기반으로합니다. 그는 2014 년 전이 학습을 통해 신경망의 여러 계층이 다른 속도로 훈련해야한다는 것을 보여주었습니다. < <요신 스키 >>."
   ]
  },
  {
   "cell_type": "markdown",
   "metadata": {},
   "source": [
    "<img alt=\"Impact of different layers and training methods on transfer learning (Yosinski)\" width=\"680\" caption=\"Impact of different layers and training methods on transfer learning (courtesy of Jason Yosinski et al.)\" id=\"yosinski\" src=\"images/att_00039.png\">"
   ]
  },
  {
   "cell_type": "markdown",
   "metadata": {},
   "source": [
    "fastai를 사용하면 learning rate가  예상되는 모든 위치에 Python`slice` 객체를 전달할 수 있습니다. 전달 된 첫 번째 값은 신경망의 가장 초기 계층의 learning rate가 되고 두 번째 값은 최종 계층의 learning rate가 됩니다. 그 사이의 계층은 해당 범위 전체에서 곱셈 적으로 등거리에있는 learning rate를 갖습니다. 이 접근 방식을 사용하여 이전 훈련을 복제 해 보겠습니다.하지만 이번에는 네트워크의 * 가장 낮은 * 계층 만 learning rate를 1e-6으로 설정합니다. 다른 레이어는 1e-4까지 확장됩니다. 잠시 훈련하고 무슨 일이 일어나는지 봅시다 :"
   ]
  },
  {
   "cell_type": "code",
   "execution_count": 75,
   "metadata": {
    "scrolled": true
   },
   "outputs": [
    {
     "data": {
      "text/html": [
       "<table border=\"1\" class=\"dataframe\">\n",
       "  <thead>\n",
       "    <tr style=\"text-align: left;\">\n",
       "      <th>epoch</th>\n",
       "      <th>train_loss</th>\n",
       "      <th>valid_loss</th>\n",
       "      <th>accuracy</th>\n",
       "      <th>error_rate</th>\n",
       "      <th>time</th>\n",
       "    </tr>\n",
       "  </thead>\n",
       "  <tbody>\n",
       "    <tr>\n",
       "      <td>0</td>\n",
       "      <td>1.163787</td>\n",
       "      <td>0.329143</td>\n",
       "      <td>0.891746</td>\n",
       "      <td>0.108254</td>\n",
       "      <td>00:38</td>\n",
       "    </tr>\n",
       "    <tr>\n",
       "      <td>1</td>\n",
       "      <td>0.565049</td>\n",
       "      <td>0.257074</td>\n",
       "      <td>0.916779</td>\n",
       "      <td>0.083221</td>\n",
       "      <td>00:32</td>\n",
       "    </tr>\n",
       "    <tr>\n",
       "      <td>2</td>\n",
       "      <td>0.342255</td>\n",
       "      <td>0.222356</td>\n",
       "      <td>0.930311</td>\n",
       "      <td>0.069689</td>\n",
       "      <td>00:30</td>\n",
       "    </tr>\n",
       "  </tbody>\n",
       "</table>"
      ],
      "text/plain": [
       "<IPython.core.display.HTML object>"
      ]
     },
     "metadata": {},
     "output_type": "display_data"
    },
    {
     "data": {
      "text/html": [
       "<table border=\"1\" class=\"dataframe\">\n",
       "  <thead>\n",
       "    <tr style=\"text-align: left;\">\n",
       "      <th>epoch</th>\n",
       "      <th>train_loss</th>\n",
       "      <th>valid_loss</th>\n",
       "      <th>accuracy</th>\n",
       "      <th>error_rate</th>\n",
       "      <th>time</th>\n",
       "    </tr>\n",
       "  </thead>\n",
       "  <tbody>\n",
       "    <tr>\n",
       "      <td>0</td>\n",
       "      <td>0.255347</td>\n",
       "      <td>0.218605</td>\n",
       "      <td>0.927605</td>\n",
       "      <td>0.072395</td>\n",
       "      <td>00:37</td>\n",
       "    </tr>\n",
       "    <tr>\n",
       "      <td>1</td>\n",
       "      <td>0.230664</td>\n",
       "      <td>0.213112</td>\n",
       "      <td>0.928958</td>\n",
       "      <td>0.071042</td>\n",
       "      <td>00:37</td>\n",
       "    </tr>\n",
       "    <tr>\n",
       "      <td>2</td>\n",
       "      <td>0.236368</td>\n",
       "      <td>0.208975</td>\n",
       "      <td>0.934371</td>\n",
       "      <td>0.065629</td>\n",
       "      <td>00:37</td>\n",
       "    </tr>\n",
       "    <tr>\n",
       "      <td>3</td>\n",
       "      <td>0.207939</td>\n",
       "      <td>0.202979</td>\n",
       "      <td>0.933018</td>\n",
       "      <td>0.066982</td>\n",
       "      <td>00:38</td>\n",
       "    </tr>\n",
       "    <tr>\n",
       "      <td>4</td>\n",
       "      <td>0.187881</td>\n",
       "      <td>0.202958</td>\n",
       "      <td>0.935047</td>\n",
       "      <td>0.064953</td>\n",
       "      <td>00:42</td>\n",
       "    </tr>\n",
       "    <tr>\n",
       "      <td>5</td>\n",
       "      <td>0.174420</td>\n",
       "      <td>0.206192</td>\n",
       "      <td>0.937754</td>\n",
       "      <td>0.062246</td>\n",
       "      <td>00:38</td>\n",
       "    </tr>\n",
       "    <tr>\n",
       "      <td>6</td>\n",
       "      <td>0.155363</td>\n",
       "      <td>0.201932</td>\n",
       "      <td>0.939784</td>\n",
       "      <td>0.060217</td>\n",
       "      <td>00:39</td>\n",
       "    </tr>\n",
       "    <tr>\n",
       "      <td>7</td>\n",
       "      <td>0.140623</td>\n",
       "      <td>0.197484</td>\n",
       "      <td>0.939107</td>\n",
       "      <td>0.060893</td>\n",
       "      <td>00:37</td>\n",
       "    </tr>\n",
       "    <tr>\n",
       "      <td>8</td>\n",
       "      <td>0.134901</td>\n",
       "      <td>0.197065</td>\n",
       "      <td>0.941137</td>\n",
       "      <td>0.058863</td>\n",
       "      <td>00:38</td>\n",
       "    </tr>\n",
       "    <tr>\n",
       "      <td>9</td>\n",
       "      <td>0.123956</td>\n",
       "      <td>0.194974</td>\n",
       "      <td>0.938430</td>\n",
       "      <td>0.061570</td>\n",
       "      <td>00:38</td>\n",
       "    </tr>\n",
       "    <tr>\n",
       "      <td>10</td>\n",
       "      <td>0.126012</td>\n",
       "      <td>0.195835</td>\n",
       "      <td>0.941137</td>\n",
       "      <td>0.058863</td>\n",
       "      <td>00:41</td>\n",
       "    </tr>\n",
       "    <tr>\n",
       "      <td>11</td>\n",
       "      <td>0.134434</td>\n",
       "      <td>0.195276</td>\n",
       "      <td>0.940460</td>\n",
       "      <td>0.059540</td>\n",
       "      <td>00:40</td>\n",
       "    </tr>\n",
       "  </tbody>\n",
       "</table>"
      ],
      "text/plain": [
       "<IPython.core.display.HTML object>"
      ]
     },
     "metadata": {},
     "output_type": "display_data"
    }
   ],
   "source": [
    "learn = cnn_learner(dls, resnet34, metrics=[accuracy, error_rate])\n",
    "learn.fit_one_cycle(3, 3e-3)\n",
    "learn.unfreeze()\n",
    "learn.fit_one_cycle(12, lr_max=slice(1e-6,1e-4))"
   ]
  },
  {
   "cell_type": "markdown",
   "metadata": {},
   "source": [
    "이제 미세 조정이 훌륭하게 작동합니다!\n",
    "\n",
    "fastai는 훈련 및 검증 손실의 그래프를 보여줄 수 있습니다."
   ]
  },
  {
   "cell_type": "markdown",
   "metadata": {},
   "source": [
    "보시다시피 훈련 손실은 점점 더 좋아지고 있습니다. 그러나 결국에는 유효성 검사 손실 개선이 느려지고 때로는 더 나빠질 수 있습니다! 이것은 모델이 과적 합되기 시작하는 지점입니다. 특히이 모델은 예측에 대해 지나치게 확신하고 있습니다. 그러나 이것이 반드시 정확도가 떨어지고 있음을 의미하지는 않습니다. 에포크 당 학습 결과 표를 살펴보면 유효성 검사 손실이 악화 되더라도 정확도가 계속 향상되는 것을 종종 볼 수 있습니다. 결국 중요한 것은 손실이 아니라 정확도 또는 일반적으로 선택한 메트릭입니다. 손실은 최적화를 위해 컴퓨터에 부여한 기능 일뿐입니다."
   ]
  },
  {
   "cell_type": "markdown",
   "metadata": {},
   "source": [
    "모델을 훈련 할 때 결정해야하는 또 다른 결정은 훈련 시간입니다. 우리는 다음에 그것을 고려할 것입니다."
   ]
  },
  {
   "cell_type": "markdown",
   "metadata": {},
   "source": [
    "### Selecting the Number of Epochs(Epoch 수 선택)"
   ]
  },
  {
   "cell_type": "markdown",
   "metadata": {},
   "source": [
    "훈련 할 Epoch 수를 선택할 때 generalization(일반화)와 accuracy(정확성)이 아닌 시간에 의해 제한되는 경우가 많습니다. 따라서 훈련에 대한 첫 번째 접근 방식은 기다릴 수있는 시간 동안 훈련 할 여러 epochs 를 선택하는 것입니다. 그런 다음 위에 표시된대로 훈련 및 검증 loss plots(손실 플롯), 특히 측정 항목을 살펴보고, final epochs 에서도 여전히 개선되고있는 경우 너무 오랫동안 훈련하지 않은 것입니다.\n",
    "\n",
    "다른 한편으로, 당신은 당신이 선택한 메트릭이 훈련이 끝날 때 정말로 악화되고 있음을 잘 알 수 있습니다. 더 악화 될 유효성 검사 손실을 찾고있는 것이 아니라 실제 측정 항목을 기억하십시오. 모델이 과신되기 때문에 학습 중에 유효성 검사 손실이 먼저 악화되고 데이터를 잘못 기억하기 때문에 나중에 악화 될 것입니다. 우리는 실제로 후자의 문제에만 관심이 있습니다. 손실 함수는 최적화 프로그램이 차별화하고 최적화 할 수있는 무언가를 갖도록하기 위해 사용하는 것임을 기억하십시오. 실제로 우리가 실제로 신경 쓰는 것은 아닙니다.\n",
    "\n",
    "1cycle 훈련이 시작되기 전에는 각 epoch 가 끝날 때 모델을 저장 한 다음 각 세대에 저장된 모든 모델 중에서 가장 정확한 모델을 선택하는 것이 일반적이었습니다. 이를 * early stopping * 라고합니다. 그러나 이것은 learning rate가 실제로 최상의 결과를 찾을 수있는 작은 값에 도달 할 기회를 갖기 전에 중간에있는 epoch가 발생하기 때문에 최상의 답변을 제공 할 가능성이 매우 낮습니다. 따라서 과적 합을 발견 한 경우 실제로해야 할 일은 모델을 처음부터 다시 학습시키고 이번에는 이전 최상의 결과가 발견 된 위치를 기반으로 총 epoch 수를 선택하는 것입니다.\n",
    "\n",
    "더 많은 epochs를 위해 훈련 할 시간이 있다면 대신 그 시간을 사용하여 더 많은 parameters 를 훈련시킬 수 있습니다. 즉, 더 deeper architecture(깊은 아키텍처)를 사용합니다."
   ]
  },
  {
   "cell_type": "markdown",
   "metadata": {},
   "source": [
    "### Deeper Architectures"
   ]
  },
  {
   "cell_type": "markdown",
   "metadata": {},
   "source": [
    "일반적으로 parameters가 더 많은 모델은 데이터를 더 정확하게 모델링 할 수 있습니다. (이 일반화에는 많은주의 사항이 있으며 사용중인 아키텍처의 세부 사항에 따라 다르지만 현재로서는 합리적인 경험 규칙입니다.)이 책에서 보게 될 대부분의 아키텍처에 대해 , 단순히 더 많은 레이어를 추가하여 더 큰 버전을 만들 수 있습니다. 그러나 사전 훈련 된 모델을 사용하기를 원하기 때문에 이미 사전 훈련 된 여러 레이어를 선택해야합니다.\n",
    "\n",
    "이것이 실제로 아키텍처가 소수의 변형으로 나오는 경향이있는 이유입니다. 예를 들어,이 장에서 사용하는 ResNet 아키텍처는 ImageNet에서 사전 훈련 된 18, 34, 50, 101 및 152 계층의 변형으로 제공됩니다. ResNet의 더 큰 (더 많은 레이어와 매개 변수, 때로는 모델의 \"용량\"이라고도 함) 버전의 ResNet은 항상 더 나은 훈련 손실을 제공 할 수 있지만 과적 합할 매개 변수가 더 많기 때문에 과적 합으로 인해 더 많은 어려움을 겪을 수 있습니다. \n",
    "\n",
    "일반적으로 더 큰 모델은 데이터의 실제 기본 관계를 더 잘 캡처하고 개별 이미지의 특정 세부 정보를 캡처하고 기억할 수 있습니다.\n",
    "\n",
    "그러나 더 깊은 모델을 사용하면 더 많은 GPU RAM이 필요하므로 * 메모리 부족 오류 *를 방지하기 위해 배치 크기를 줄여야 할 수 있습니다. 이것은 GPU에 너무 많이 들어 가려고 할 때 발생하며 다음과 같이 보입니다.\n",
    "\n",
    "```\n",
    "Cuda runtime error: out of memory\n",
    "```\n",
    "\n",
    "이 경우 노트북을 다시 시작해야 할 수 있습니다. 이를 해결하는 방법은 더 작은 배치 크기를 사용하는 것입니다. 즉, 모델을 통해 주어진 시간에 더 작은 이미지 그룹을 전달하는 것을 의미합니다. `bs =`를 사용하여`DataLoaders`를 만드는 호출에 원하는 배치 크기를 전달할 수 있습니다.\n",
    "\n",
    "더 깊은 아키텍처의 또 다른 단점은 훈련하는 데 시간이 오래 걸린다는 것입니다. 속도를 크게 높일 수있는 한 가지 기법은 * mixed-precision training(혼합 정밀도 훈련) * 입니다. \n",
    "이것은 훈련 중에 가능하면 덜 정확한 숫자 (* half-precision floating point(반 정밀도 부동 소수점) * , * fp16 * 라고도 함)를 사용하는 것을 나타냅니다. 2020 년 초에 이 단어를 작성함에 따라 현재 거의 모든 NVIDIA GPU는 * tensor cores(텐서 코어) * 라는 특수 기능을 지원하여 신경망 훈련 속도를 2-3 배 크게 높일 수 있습니다. 또한 훨씬 적은 GPU 메모리가 필요합니다. fastai에서이 기능을 활성화하려면`Learner` 생성 후`to_fp16 ()`을 추가하기 만하면됩니다 (모듈도 가져와야합니다).\n",
    "\n",
    "특정 문제에 가장 적합한 아키텍처가 무엇인지 미리 알 수는 없습니다. 일부를 교육해야합니다. 이제 mixed-precision training(혼합 정밀도)로 ResNet-50을 사용해 보겠습니다."
   ]
  },
  {
   "cell_type": "code",
   "execution_count": 76,
   "metadata": {
    "scrolled": false
   },
   "outputs": [
    {
     "data": {
      "text/html": [
       "<table border=\"1\" class=\"dataframe\">\n",
       "  <thead>\n",
       "    <tr style=\"text-align: left;\">\n",
       "      <th>epoch</th>\n",
       "      <th>train_loss</th>\n",
       "      <th>valid_loss</th>\n",
       "      <th>accuracy</th>\n",
       "      <th>error_rate</th>\n",
       "      <th>time</th>\n",
       "    </tr>\n",
       "  </thead>\n",
       "  <tbody>\n",
       "    <tr>\n",
       "      <td>0</td>\n",
       "      <td>1.409067</td>\n",
       "      <td>0.306017</td>\n",
       "      <td>0.899865</td>\n",
       "      <td>0.100135</td>\n",
       "      <td>00:34</td>\n",
       "    </tr>\n",
       "    <tr>\n",
       "      <td>1</td>\n",
       "      <td>0.596007</td>\n",
       "      <td>0.344115</td>\n",
       "      <td>0.884980</td>\n",
       "      <td>0.115020</td>\n",
       "      <td>00:34</td>\n",
       "    </tr>\n",
       "    <tr>\n",
       "      <td>2</td>\n",
       "      <td>0.430176</td>\n",
       "      <td>0.290591</td>\n",
       "      <td>0.909337</td>\n",
       "      <td>0.090663</td>\n",
       "      <td>00:34</td>\n",
       "    </tr>\n",
       "  </tbody>\n",
       "</table>"
      ],
      "text/plain": [
       "<IPython.core.display.HTML object>"
      ]
     },
     "metadata": {},
     "output_type": "display_data"
    },
    {
     "data": {
      "text/html": [
       "<table border=\"1\" class=\"dataframe\">\n",
       "  <thead>\n",
       "    <tr style=\"text-align: left;\">\n",
       "      <th>epoch</th>\n",
       "      <th>train_loss</th>\n",
       "      <th>valid_loss</th>\n",
       "      <th>accuracy</th>\n",
       "      <th>error_rate</th>\n",
       "      <th>time</th>\n",
       "    </tr>\n",
       "  </thead>\n",
       "  <tbody>\n",
       "    <tr>\n",
       "      <td>0</td>\n",
       "      <td>0.247863</td>\n",
       "      <td>0.243337</td>\n",
       "      <td>0.922869</td>\n",
       "      <td>0.077131</td>\n",
       "      <td>00:43</td>\n",
       "    </tr>\n",
       "    <tr>\n",
       "      <td>1</td>\n",
       "      <td>0.227274</td>\n",
       "      <td>0.300315</td>\n",
       "      <td>0.907984</td>\n",
       "      <td>0.092016</td>\n",
       "      <td>00:43</td>\n",
       "    </tr>\n",
       "    <tr>\n",
       "      <td>2</td>\n",
       "      <td>0.241829</td>\n",
       "      <td>0.321085</td>\n",
       "      <td>0.899865</td>\n",
       "      <td>0.100135</td>\n",
       "      <td>00:47</td>\n",
       "    </tr>\n",
       "    <tr>\n",
       "      <td>3</td>\n",
       "      <td>0.233698</td>\n",
       "      <td>0.324595</td>\n",
       "      <td>0.903924</td>\n",
       "      <td>0.096076</td>\n",
       "      <td>00:44</td>\n",
       "    </tr>\n",
       "    <tr>\n",
       "      <td>4</td>\n",
       "      <td>0.180095</td>\n",
       "      <td>0.351067</td>\n",
       "      <td>0.897158</td>\n",
       "      <td>0.102842</td>\n",
       "      <td>00:45</td>\n",
       "    </tr>\n",
       "    <tr>\n",
       "      <td>5</td>\n",
       "      <td>0.140912</td>\n",
       "      <td>0.327515</td>\n",
       "      <td>0.916103</td>\n",
       "      <td>0.083897</td>\n",
       "      <td>00:44</td>\n",
       "    </tr>\n",
       "    <tr>\n",
       "      <td>6</td>\n",
       "      <td>0.104318</td>\n",
       "      <td>0.290026</td>\n",
       "      <td>0.918133</td>\n",
       "      <td>0.081867</td>\n",
       "      <td>00:43</td>\n",
       "    </tr>\n",
       "    <tr>\n",
       "      <td>7</td>\n",
       "      <td>0.073421</td>\n",
       "      <td>0.249696</td>\n",
       "      <td>0.926252</td>\n",
       "      <td>0.073748</td>\n",
       "      <td>00:38</td>\n",
       "    </tr>\n",
       "    <tr>\n",
       "      <td>8</td>\n",
       "      <td>0.045387</td>\n",
       "      <td>0.256313</td>\n",
       "      <td>0.928281</td>\n",
       "      <td>0.071719</td>\n",
       "      <td>00:38</td>\n",
       "    </tr>\n",
       "    <tr>\n",
       "      <td>9</td>\n",
       "      <td>0.034788</td>\n",
       "      <td>0.250128</td>\n",
       "      <td>0.931664</td>\n",
       "      <td>0.068336</td>\n",
       "      <td>00:35</td>\n",
       "    </tr>\n",
       "    <tr>\n",
       "      <td>10</td>\n",
       "      <td>0.026436</td>\n",
       "      <td>0.239892</td>\n",
       "      <td>0.930311</td>\n",
       "      <td>0.069689</td>\n",
       "      <td>00:44</td>\n",
       "    </tr>\n",
       "    <tr>\n",
       "      <td>11</td>\n",
       "      <td>0.021527</td>\n",
       "      <td>0.243376</td>\n",
       "      <td>0.931664</td>\n",
       "      <td>0.068336</td>\n",
       "      <td>00:45</td>\n",
       "    </tr>\n",
       "  </tbody>\n",
       "</table>"
      ],
      "text/plain": [
       "<IPython.core.display.HTML object>"
      ]
     },
     "metadata": {},
     "output_type": "display_data"
    }
   ],
   "source": [
    "from fastai.callback.fp16 import *\n",
    "learn = cnn_learner(dls, resnet50, metrics=[accuracy, error_rate]).to_fp16()\n",
    "learn.fine_tune(12, freeze_epochs=3)"
   ]
  },
  {
   "cell_type": "markdown",
   "metadata": {},
   "source": [
    "여기에서`fine_tune`을 다시 사용하는 것을 볼 수 있습니다. 매우 편리합니다! 'freeze_epochs'를 전달하여 고정 상태에서 훈련 할 Epoch 수를 fastai에 알릴 수 있습니다. 대부분의 데이터 세트에 맞게 학습률을 자동으로 변경합니다.\n",
    "\n",
    "이 경우 우리는 더 깊은 모델에서 명확한 승리를 보지 못하고 있습니다. 이것은 기억하는 데 유용합니다. 큰 모델이 특정 경우에 반드시 더 나은 모델은 아닙니다! 확장을 시작하기 전에 작은 모델을 시도해보십시오."
   ]
  },
  {
   "cell_type": "markdown",
   "metadata": {},
   "source": [
    "## Conclusion"
   ]
  },
  {
   "cell_type": "markdown",
   "metadata": {},
   "source": [
    "이 장에서는 모델링 (presizing(사전 크기 조정), data block summary(데이터 블록 요약))\n",
    "을 위해 이미지 데이터를 준비하고 모델을 맞추기 위한 몇 가지 중요한 실용적인 팁을 배웠습니다. \n",
    "\n",
    "learning rate finder(학습률 파인더), \n",
    "unfreezing(고정 해제), \n",
    "discriminative learning rates(차별적 학습률), \n",
    "Epoch 수 설정 및 사용,\n",
    "더 깊은 아키텍처 사용\n",
    "\n",
    "이러한 도구를 사용하면보다 정확한 이미지 모델을보다 빠르게 구축 할 수 있습니다.\n",
    "\n",
    "또한 cross-entropy loss(교차 엔트로피 손실) 에 대해서도 논의했습니다. \n",
    "책의 이 부분은 많은 시간을 할애 할 가치가 있습니다. \n",
    "실제로 실제로 cross-entropy loss를 직접 구현할 필요는 없지만 해당 함수에 대한 입력과 출력을 이해하는 것이 정말 중요합니다. \n",
    "왜냐하면 다음 장에 그 함수의 입력과 출력을 이해하는 것이 정말 중요합니다.\n",
    "거의 모든 분류 모델에서 사용됩니다. \n",
    "따라서 모델을 디버그하거나 모델을 프로덕션에 배치하거나 모델의 정확성을 향상 시키려면 \n",
    "활성화 및 손실을 살펴보고 무슨 일이 일어나고 있는지, 왜 그런지 이해할 수 있어야 합니다. \n",
    "loss function(손실 함수)를 이해하지 못하면 제대로 할 수 없습니다.\n",
    "\n",
    "교차 엔트로피 손실이 아직 \"클릭\"되지 않았더라도 걱정하지 마십시오. \n",
    "먼저 마지막 장으로 돌아가서`mnist_loss`를 정말로 이해하고 있는지 확인하십시오. \n",
    "그런 다음이 장에서 노트북의 셀을 통해 점진적으로 작업하여 각 교차 엔트로피 손실을 단계별로 살펴 봅니다. \n",
    "각 계산이 수행하는 작업과 이유를 이해해야합니다.\n",
    "작은 텐서를 직접 만들어서 함수에 전달하여 반환되는 내용을 확인하십시오.\n",
    "\n",
    "기억하십시오 : \n",
    "교차 엔트로피 손실의 구현에서 이루어진 선택 만이 가능했던 유일한 선택은 아닙니다. \n",
    "회귀를 볼 때와 마찬가지로 평균 제곱 오차와 평균 절대 차이 (L1) 중에서 선택할 수 있습니다. \n",
    "작동 할 것으로 생각되는 기능에 대한 다른 아이디어가 있다면 이 장의 노트에서 자유롭게 시도해보십시오! \n",
    "(하지만 공정한 경고 : 모델이 학습 속도가 더 느려지고 정확도가 떨어질 것입니다. \n",
    "이는 cross-entropy loss(교차 엔트로피 손실)의 기울기가 활성화와 대상 간의 차이에 비례한다. \n",
    "그래서 SGD는 항상 적절한 weights 에 대한 스케일 단계이다.)"
   ]
  },
  {
   "cell_type": "markdown",
   "metadata": {},
   "source": [
    "## Questionnaire(질문 사항)"
   ]
  },
  {
   "cell_type": "markdown",
   "metadata": {},
   "source": [
    "1. 먼저 CPU에서 큰 크기로 크기를 조정 한 다음 GPU에서 더 작은 크기로 조정하는 이유는 무엇입니까?\n",
    "1. 정규식에 익숙하지 않은 경우 정규식 자습서와 몇 가지 문제 세트를 찾아서 완료하십시오. 책의 웹 사이트에서 제안 사항을 살펴보십시오.\n",
    "1. 대부분의 딥 러닝 데이터 세트에서 데이터가 가장 일반적으로 제공되는 두 가지 방법은 무엇입니까?\n",
    "1.`L`에 대한 문서를 찾아보고 추가 된 몇 가지 새로운 방법을 사용해보십시오.\n",
    "1. Python`pathlib` 모듈에 대한 문서를 찾고`Path` 클래스의 몇 가지 메소드를 사용해보십시오.\n",
    "1. 이미지 변환이 데이터 품질을 저하시킬 수있는 방법에 대한 두 가지 예를 제공합니다.\n",
    "1. Fastai는`DataLoaders`에서 데이터를보기 위해 어떤 방법을 제공합니까?\n",
    "1. fastai는`DataBlock`을 디버그하는 데 어떤 방법을 제공합니까?\n",
    "1. 데이터를 완전히 정리할 때까지 모델 학습을 보류해야합니까?\n",
    "1. PyTorch에서 교차 엔트로피 손실로 결합되는 두 가지 요소는 무엇입니까?\n",
    "1. 소프트 맥스가 보장하는 활성화의 두 가지 속성은 무엇입니까? 이것이 왜 중요한가요?\n",
    "1. 언제 활성화에이 두 가지 속성이 포함되지 않도록 할 수 있습니까?\n",
    "1. << bear_softmax >>의`exp` 및`softmax` 열을 직접 계산합니다 (예 : 스프레드 시트, 계산기 사용 또는 노트북).\n",
    "1. 레이블이 세 개 이상의 범주를 가질 수있는 데이터 세트에 대한 손실 함수를 생성하기 위해`torch.where`를 사용할 수없는 이유는 무엇입니까?\n",
    "1. log (-2)의 값은 무엇입니까? 왜?\n",
    "1. 학습률 파인더에서 학습률을 선택하기위한 두 가지 좋은 경험 규칙은 무엇입니까?\n",
    "1.`fine_tune` 메소드는 어떤 두 단계를 수행합니까?\n",
    "1. Jupyter Notebook에서 메서드 또는 함수에 대한 소스 코드를 어떻게 얻습니까?\n",
    "1. 차별적 학습률이란 무엇입니까?\n",
    "1. fastai에 학습률로 전달 될 때 Python`slice` 객체는 어떻게 해석됩니까?\n",
    "1. 1주기 훈련을 사용할 때 왜 조기 중지가 잘못된 선택입니까?\n",
    "1.`resnet50`과`resnet101`의 차이점은 무엇입니까?\n",
    "1.`to_fp16`은 무엇을합니까?"
   ]
  },
  {
   "cell_type": "markdown",
   "metadata": {},
   "source": [
    "### Further Research(추가 연구)"
   ]
  },
  {
   "cell_type": "markdown",
   "metadata": {},
   "source": [
    "1. learning rate finder 를 소개 한 Leslie Smith의 논문을 찾아서 읽습니다.\n",
    "1.이 장에서 classifier(분류기)의 accuracy(정확도) 를 향상시킬 수 있는지 확인하십시오. 달성 할 수있는 최고의 accuracy(정확도)는 무엇입니까? 포럼과 책의 웹 사이트에서 다른 학생들이 이 데이터 세트로 무엇을 달성했는지, 어떻게 수행했는지 확인하십시오."
   ]
  },
  {
   "cell_type": "code",
   "execution_count": null,
   "metadata": {},
   "outputs": [],
   "source": []
  }
 ],
 "metadata": {
  "jupytext": {
   "split_at_heading": true
  },
  "kernelspec": {
   "display_name": "Python 3",
   "language": "python",
   "name": "python3"
  },
  "language_info": {
   "codemirror_mode": {
    "name": "ipython",
    "version": 3
   },
   "file_extension": ".py",
   "mimetype": "text/x-python",
   "name": "python",
   "nbconvert_exporter": "python",
   "pygments_lexer": "ipython3",
   "version": "3.7.7"
  },
  "toc": {
   "base_numbering": 1,
   "nav_menu": {},
   "number_sections": false,
   "sideBar": true,
   "skip_h1_title": true,
   "title_cell": "Table of Contents",
   "title_sidebar": "Contents",
   "toc_cell": false,
   "toc_position": {},
   "toc_section_display": true,
   "toc_window_display": false
  }
 },
 "nbformat": 4,
 "nbformat_minor": 2
}
